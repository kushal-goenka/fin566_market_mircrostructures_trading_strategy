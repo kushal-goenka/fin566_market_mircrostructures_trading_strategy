{
 "cells": [
  {
   "cell_type": "code",
   "execution_count": 1,
   "metadata": {},
   "outputs": [],
   "source": [
    "import pandas as pd\n",
    "from pandas import DataFrame\n",
    "import numpy as np\n",
    "import os\n",
    "os.chdir('/Users/khavya/Box/MS - Financial Engineering/Fall 2020/FIN566 - Algorithmic Market Microstructure')\n",
    "import matplotlib.pyplot as plt\n",
    "import seaborn as sns\n",
    "\n",
    "import collections\n",
    "from collections import defaultdict\n",
    "import scipy.stats as st\n",
    "from sklearn.linear_model import LinearRegression\n",
    "import statsmodels.api as sm\n",
    "\n",
    "plt.style.use('seaborn-ticks')\n",
    "pd.set_option('display.max_columns', None)\n",
    "\n",
    "from IPython.display import Markdown, display\n",
    "def printmd(string):\n",
    "    display(Markdown(string))"
   ]
  },
  {
   "cell_type": "code",
   "execution_count": 2,
   "metadata": {},
   "outputs": [
    {
     "name": "stdout",
     "output_type": "stream",
     "text": [
      "['AAPL' 'AMZN' 'JPM' 'MSFT' 'SPY' 'INTC']\n"
     ]
    }
   ],
   "source": [
    "# Loading the data (MSFT, SPY, AMZN, AAPL, INTL, JPM) \n",
    "wholedf = pd.read_csv('SPY_6_components.csv')\n",
    "wholedf.sort_values(['ticker','Collection_time'])\n",
    "\n",
    "# Deleting the unwanted rows generated\n",
    "del wholedf['Unnamed: 0']\n",
    "\n",
    "# Finding the unique tickers in the data\n",
    "unique_tickers = wholedf.ticker.unique()\n",
    "print(unique_tickers)"
   ]
  },
  {
   "cell_type": "code",
   "execution_count": 3,
   "metadata": {},
   "outputs": [],
   "source": [
    "####### Source: Yong Xie's Code ########\n",
    "\n",
    "# Setting up the scene for regression\n",
    "window = pd.Timedelta('0 days 00:00:00.000001')\n",
    "regression_data = pd.merge(wholedf[wholedf['ticker']=='SPY'], wholedf[wholedf['ticker']=='AAPL'], \n",
    "                           on = 'Collection_time', how = 'outer', suffixes = ['_SPY', '_AAPL'])\n",
    "regression_data = regression_data.sort_values('Collection_time')\n",
    "regression_data = regression_data.fillna(method = 'pad')\n",
    "combine = regression_data.fillna(method = 'bfill')\n",
    "combine['Collection_time'] = pd.to_datetime(combine['Collection_time'])"
   ]
  },
  {
   "cell_type": "code",
   "execution_count": 4,
   "metadata": {},
   "outputs": [],
   "source": [
    "# Calculating future returns\n",
    "combine_values = combine.values\n",
    "\n",
    "component_return = np.zeros((combine_values.shape[0], 1))\n",
    "etf_return = np.zeros((combine_values.shape[0], 1))\n",
    "\n",
    "n = combine_values.shape[0]\n",
    "for i in range(n):\n",
    "    j = i + 1\n",
    "    while j < n and combine_values[j,0] - combine_values[i,0] < window:\n",
    "        j += 1\n",
    "    if j >= n:\n",
    "        etf_return[i, 0] = np.nan\n",
    "        component_return[i, 0]= np.nan\n",
    "    else:\n",
    "        etf_return[i, 0] = combine_values[j, 5]/combine_values[i, 5] - 1\n",
    "        component_return[i, 0] = combine_values[j, 12]/combine_values[i, 12] - 1\n",
    "        \n",
    "combine['Return_SPY'] = etf_return\n",
    "combine['Return_AAPL'] = component_return"
   ]
  },
  {
   "cell_type": "code",
   "execution_count": 7,
   "metadata": {},
   "outputs": [],
   "source": [
    "## calculate features\n",
    "windows = {'1': pd.Timedelta('0 days 00:00:00.000001'),\n",
    "           '5': pd.Timedelta('0 days 00:00:00.000005'),\n",
    "           '10': pd.Timedelta('0 days 00:00:00.000010'),\n",
    "           '30': pd.Timedelta('0 days 00:00:00.000030'),\n",
    "           '60': pd.Timedelta('0 days 00:00:00.000060'),\n",
    "           '90': pd.Timedelta('0 days 00:00:00.000090')}\n",
    "\n",
    "combine_values = combine.values\n",
    "n = combine_values.shape[0]\n",
    "\n",
    "for k, window in windows.items():\n",
    "    component_return = np.zeros((combine_values.shape[0], 1))\n",
    "    etf_return = np.zeros((combine_values.shape[0], 1))\n",
    "    \n",
    "    for i in range(n):\n",
    "        j = i - 1\n",
    "        while j >=0 and combine_values[i,0] - combine_values[j,0] < window:\n",
    "            j -= 1\n",
    "        if j < 0:\n",
    "            etf_return[i, 0] = np.nan\n",
    "            component_return[i, 0]= np.nan\n",
    "        else:\n",
    "            etf_return[i, 0] = combine_values[i, 5]/combine_values[j, 5] - 1\n",
    "            component_return[i, 0] = combine_values[i, 12]/combine_values[j, 12] - 1\n",
    "\n",
    "    combine['Return_SPY_'+k] = etf_return\n",
    "    combine['Return_AAPL_'+k] = component_return"
   ]
  },
  {
   "cell_type": "code",
   "execution_count": 30,
   "metadata": {},
   "outputs": [
    {
     "data": {
      "text/markdown": [
       "**SPY as the dependent variable - Microseconds interval with price filtering**"
      ],
      "text/plain": [
       "<IPython.core.display.Markdown object>"
      ]
     },
     "metadata": {},
     "output_type": "display_data"
    },
    {
     "name": "stdout",
     "output_type": "stream",
     "text": [
      "                            OLS Regression Results                            \n",
      "==============================================================================\n",
      "Dep. Variable:                      y   R-squared:                       0.038\n",
      "Model:                            OLS   Adj. R-squared:                  0.038\n",
      "Method:                 Least Squares   F-statistic:                     175.6\n",
      "Date:                Sun, 20 Dec 2020   Prob (F-statistic):          7.29e-184\n",
      "Time:                        17:50:16   Log-Likelihood:             1.6755e+05\n",
      "No. Observations:               22348   AIC:                        -3.351e+05\n",
      "Df Residuals:                   22342   BIC:                        -3.350e+05\n",
      "Df Model:                           5                                         \n",
      "Covariance Type:            nonrobust                                         \n",
      "==================================================================================\n",
      "                     coef    std err          t      P>|t|      [0.025      0.975]\n",
      "----------------------------------------------------------------------------------\n",
      "const          -1.752e-07   8.98e-07     -0.195      0.845   -1.94e-06    1.58e-06\n",
      "Return_AAPL_1      0.0481      0.133      0.363      0.717      -0.212       0.308\n",
      "Return_AAPL_5      0.0481      0.133      0.363      0.717      -0.212       0.308\n",
      "Return_AAPL_10    -0.0741      0.273     -0.272      0.786      -0.609       0.461\n",
      "Return_AAPL_30     0.0405      0.095      0.425      0.671      -0.147       0.228\n",
      "Return_AAPL_60     0.1932      0.306      0.631      0.528      -0.407       0.793\n",
      "Return_AAPL_90    -0.1594      0.299     -0.533      0.594      -0.746       0.427\n",
      "==============================================================================\n",
      "Omnibus:                    48926.277   Durbin-Watson:                   2.035\n",
      "Prob(Omnibus):                  0.000   Jarque-Bera (JB):       1832080665.932\n",
      "Skew:                         -19.088   Prob(JB):                         0.00\n",
      "Kurtosis:                    1405.160   Cond. No.                     1.97e+19\n",
      "==============================================================================\n",
      "\n",
      "Notes:\n",
      "[1] Standard Errors assume that the covariance matrix of the errors is correctly specified.\n",
      "[2] The smallest eigenvalue is 5.75e-35. This might indicate that there are\n",
      "strong multicollinearity problems or that the design matrix is singular.\n"
     ]
    }
   ],
   "source": [
    "# Filtering the unchanged price instances\n",
    "# SPY as the dependent variable\n",
    "combine_valid = combine.dropna(how='any', axis=0)\n",
    "combine_validnew = combine_valid[['Return_SPY','Return_AAPL_1','Return_AAPL_5','Return_AAPL_10',\n",
    "                                  'Return_AAPL_30', 'Return_AAPL_60','Return_AAPL_90']]\n",
    "df = combine_validnew\n",
    "df = df[~(df == 0).any(axis = 1)]\n",
    "\n",
    "y = df.Return_SPY.to_list()\n",
    "x = df[['Return_AAPL_1','Return_AAPL_5','Return_AAPL_10', 'Return_AAPL_30', 'Return_AAPL_60','Return_AAPL_90']]\n",
    "x = sm.add_constant(x)\n",
    "\n",
    "model = sm.OLS(y, x).fit()\n",
    "predictions = model.predict(x) \n",
    "print_model = model.summary()\n",
    "printmd('**SPY as the dependent variable - Microseconds interval with price filtering**')\n",
    "print(print_model)"
   ]
  },
  {
   "cell_type": "code",
   "execution_count": 32,
   "metadata": {},
   "outputs": [
    {
     "data": {
      "text/markdown": [
       "**AAPL as the dependent variable - Microseconds interval with price filtering**"
      ],
      "text/plain": [
       "<IPython.core.display.Markdown object>"
      ]
     },
     "metadata": {},
     "output_type": "display_data"
    },
    {
     "name": "stdout",
     "output_type": "stream",
     "text": [
      "                            OLS Regression Results                            \n",
      "==============================================================================\n",
      "Dep. Variable:                      y   R-squared:                       0.038\n",
      "Model:                            OLS   Adj. R-squared:                  0.037\n",
      "Method:                 Least Squares   F-statistic:                     164.1\n",
      "Date:                Sun, 20 Dec 2020   Prob (F-statistic):          8.93e-172\n",
      "Time:                        17:52:25   Log-Likelihood:             1.3916e+05\n",
      "No. Observations:               21054   AIC:                        -2.783e+05\n",
      "Df Residuals:                   21048   BIC:                        -2.783e+05\n",
      "Df Model:                           5                                         \n",
      "Covariance Type:            nonrobust                                         \n",
      "=================================================================================\n",
      "                    coef    std err          t      P>|t|      [0.025      0.975]\n",
      "---------------------------------------------------------------------------------\n",
      "const          3.714e-06   2.25e-06      1.653      0.098   -6.91e-07    8.12e-06\n",
      "Return_SPY_1      0.6365      0.247      2.574      0.010       0.152       1.121\n",
      "Return_SPY_5      0.6365      0.247      2.574      0.010       0.152       1.121\n",
      "Return_SPY_10    -1.5391      0.584     -2.634      0.008      -2.684      -0.394\n",
      "Return_SPY_30     0.0225      0.510      0.044      0.965      -0.976       1.021\n",
      "Return_SPY_60    -0.4848      0.814     -0.596      0.551      -2.080       1.111\n",
      "Return_SPY_90     1.3971      0.700      1.996      0.046       0.025       2.769\n",
      "==============================================================================\n",
      "Omnibus:                    43410.397   Durbin-Watson:                   1.960\n",
      "Prob(Omnibus):                  0.000   Jarque-Bera (JB):        815460265.455\n",
      "Skew:                          16.705   Prob(JB):                         0.00\n",
      "Kurtosis:                     966.560   Cond. No.                     4.32e+19\n",
      "==============================================================================\n",
      "\n",
      "Notes:\n",
      "[1] Standard Errors assume that the covariance matrix of the errors is correctly specified.\n",
      "[2] The smallest eigenvalue is 1.13e-35. This might indicate that there are\n",
      "strong multicollinearity problems or that the design matrix is singular.\n"
     ]
    }
   ],
   "source": [
    "# AAPL as the dependent variable\n",
    "combine_valid = combine.dropna(how='any', axis=0)\n",
    "combine_validnew = combine_valid[['Return_AAPL','Return_SPY_1','Return_SPY_5','Return_SPY_10',\n",
    "                                  'Return_SPY_30', 'Return_SPY_60','Return_SPY_90']]\n",
    "df = combine_validnew\n",
    "df = df[~(df == 0).any(axis = 1)]\n",
    "\n",
    "y = df.Return_AAPL.to_list()\n",
    "x = df[['Return_SPY_1','Return_SPY_5','Return_SPY_10', 'Return_SPY_30', 'Return_SPY_60','Return_SPY_90']]\n",
    "x = sm.add_constant(x)\n",
    "\n",
    "model = sm.OLS(y, x).fit()\n",
    "predictions = model.predict(x) \n",
    "print_model = model.summary()\n",
    "printmd('**AAPL as the dependent variable - Microseconds interval with price filtering**')\n",
    "print(print_model)"
   ]
  },
  {
   "cell_type": "code",
   "execution_count": null,
   "metadata": {},
   "outputs": [],
   "source": []
  }
 ],
 "metadata": {
  "kernelspec": {
   "display_name": "Python 3",
   "language": "python",
   "name": "python3"
  },
  "language_info": {
   "codemirror_mode": {
    "name": "ipython",
    "version": 3
   },
   "file_extension": ".py",
   "mimetype": "text/x-python",
   "name": "python",
   "nbconvert_exporter": "python",
   "pygments_lexer": "ipython3",
   "version": "3.7.6"
  }
 },
 "nbformat": 4,
 "nbformat_minor": 4
}
