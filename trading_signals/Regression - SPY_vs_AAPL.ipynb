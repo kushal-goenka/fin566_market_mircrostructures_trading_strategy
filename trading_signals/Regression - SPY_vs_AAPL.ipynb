{
 "cells": [
  {
   "cell_type": "code",
   "execution_count": 14,
   "metadata": {},
   "outputs": [],
   "source": [
    "import pandas as pd\n",
    "from pandas import DataFrame\n",
    "import numpy as np\n",
    "import os\n",
    "os.chdir('/Users/khavya/Box/MS - Financial Engineering/Fall 2020/FIN566 - Algorithmic Market Microstructure')\n",
    "import matplotlib.pyplot as plt\n",
    "import seaborn as sns\n",
    "\n",
    "import collections\n",
    "from collections import defaultdict\n",
    "import scipy.stats as st\n",
    "from sklearn.linear_model import LinearRegression\n",
    "import statsmodels.api as sm\n",
    "\n",
    "plt.style.use('seaborn-ticks')\n",
    "pd.set_option('display.max_columns', None)\n",
    "\n",
    "from IPython.display import Markdown, display\n",
    "def printmd(string):\n",
    "    display(Markdown(string))"
   ]
  },
  {
   "cell_type": "code",
   "execution_count": 2,
   "metadata": {},
   "outputs": [
    {
     "name": "stdout",
     "output_type": "stream",
     "text": [
      "['AAPL' 'AMZN' 'INTL' 'JPM' 'MSFT' 'SPY']\n"
     ]
    }
   ],
   "source": [
    "# Loading the data (MSFT, SPY, AMZN, AAPL, INTL, JPM) \n",
    "wholedf = pd.read_csv('six_components.csv')\n",
    "wholedf.sort_values(['ticker','Collection_time'])\n",
    "\n",
    "# Deleting the unwanted rows generated\n",
    "del wholedf['Unnamed: 0']\n",
    "del wholedf['Unnamed: 0.1']\n",
    "\n",
    "# Finding the unique tickers in the data\n",
    "unique_tickers = wholedf.ticker.unique()\n",
    "print(unique_tickers)"
   ]
  },
  {
   "cell_type": "code",
   "execution_count": 3,
   "metadata": {},
   "outputs": [
    {
     "data": {
      "image/png": "[encoded data removed]",
      "text/plain": [
       "<Figure size 432x288 with 2 Axes>"
      ]
     },
     "metadata": {},
     "output_type": "display_data"
    }
   ],
   "source": [
    "# Correlation for the six components (With whole data from October 1 to November 1)\n",
    "correlation = []\n",
    "for i in range(len(unique_tickers)):\n",
    "    corr = []\n",
    "    for j in range(len(unique_tickers)):\n",
    "        join_left = wholedf[wholedf['ticker'] == unique_tickers[i]]\n",
    "        join_right = wholedf[wholedf['ticker'] == unique_tickers[j]]\n",
    "        result = pd.merge(join_left, join_right, on = 'Collection_time', how = 'outer')\n",
    "        result = result.sort_values('Collection_time')\n",
    "        result = result.fillna(method = 'pad')\n",
    "        correl = result[['price_x', 'price_y']].corr()\n",
    "        corr.append(correl.iloc[0,1])\n",
    "    correlation.append(corr)\n",
    "\n",
    "# Adding the correlation values into a DataFrame\n",
    "corr_matrix = pd.DataFrame(correlation)\n",
    "corr_matrix.columns = unique_tickers\n",
    "corr_matrix.index = unique_tickers\n",
    "\n",
    "# Plotting the heatmap (Correlation Matrix)\n",
    "sns.heatmap(corr_matrix, cbar=True)\n",
    "plt.show()"
   ]
  },
  {
   "cell_type": "code",
   "execution_count": 4,
   "metadata": {},
   "outputs": [],
   "source": [
    "####### Source: Yong Xie's Code ########\n",
    "\n",
    "# Setting up the scene for regression\n",
    "window = pd.Timedelta('0 days 00:00:10.000000')\n",
    "regression_data = pd.merge(wholedf[wholedf['ticker']=='SPY'], wholedf[wholedf['ticker']=='AAPL'], \n",
    "                           on = 'Collection_time', how = 'outer', suffixes = ['_SPY', '_AAPL'])\n",
    "regression_data = regression_data.sort_values('Collection_time')\n",
    "regression_data = regression_data.fillna(method = 'pad')\n",
    "combine = regression_data.fillna(method = 'bfill')\n",
    "combine['Collection_time'] = pd.to_datetime(combine['Collection_time'])"
   ]
  },
  {
   "cell_type": "code",
   "execution_count": 5,
   "metadata": {},
   "outputs": [],
   "source": [
    "# Calculating future returns\n",
    "combine_values = combine.values\n",
    "\n",
    "component_return = np.zeros((combine_values.shape[0], 1))\n",
    "etf_return = np.zeros((combine_values.shape[0], 1))\n",
    "\n",
    "n = combine_values.shape[0]\n",
    "for i in range(n):\n",
    "    j = i + 1\n",
    "    while j < n and combine_values[j,0] - combine_values[i,0] < window:\n",
    "        j += 1\n",
    "    if j >= n:\n",
    "        etf_return[i, 0] = np.nan\n",
    "        component_return[i, 0]= np.nan\n",
    "    else:\n",
    "        etf_return[i, 0] = combine_values[j, 5]/combine_values[i, 5] - 1\n",
    "        component_return[i, 0] = combine_values[j, 12]/combine_values[i, 12] - 1\n",
    "        \n",
    "combine['Return_SPY'] = etf_return\n",
    "combine['Return_AAPL'] = component_return"
   ]
  },
  {
   "cell_type": "code",
   "execution_count": 6,
   "metadata": {},
   "outputs": [],
   "source": [
    "## calculate features\n",
    "windows = {'1': pd.Timedelta('0 days 00:00:01.000000'),\n",
    "           '5': pd.Timedelta('0 days 00:00:05.000000'),\n",
    "           '10': pd.Timedelta('0 days 00:00:10.000000'),\n",
    "           '30': pd.Timedelta('0 days 00:00:30.000000'),\n",
    "           '60': pd.Timedelta('0 days 00:01:00.000000'),\n",
    "           '90': pd.Timedelta('0 days 00:01:30.000000')}\n",
    "\n",
    "combine_values = combine.values\n",
    "n = combine_values.shape[0]\n",
    "\n",
    "for k, window in windows.items():\n",
    "    component_return = np.zeros((combine_values.shape[0], 1))\n",
    "    etf_return = np.zeros((combine_values.shape[0], 1))\n",
    "    \n",
    "    for i in range(n):\n",
    "        j = i - 1\n",
    "        while j >=0 and combine_values[i,0] - combine_values[j,0] < window:\n",
    "            j -= 1\n",
    "        if j < 0:\n",
    "            etf_return[i, 0] = np.nan\n",
    "            component_return[i, 0]= np.nan\n",
    "        else:\n",
    "            etf_return[i, 0] = combine_values[i, 5]/combine_values[j, 5] - 1\n",
    "            component_return[i, 0] = combine_values[i, 12]/combine_values[j, 12] - 1\n",
    "\n",
    "    combine['Return_SPY_'+k] = etf_return\n",
    "    combine['Return_AAPL_'+k] = component_return"
   ]
  },
  {
   "cell_type": "code",
   "execution_count": 21,
   "metadata": {},
   "outputs": [
    {
     "data": {
      "text/markdown": [
       "**SPY as Dependent Variable - 1 to 90 seconds interval**"
      ],
      "text/plain": [
       "<IPython.core.display.Markdown object>"
      ]
     },
     "metadata": {},
     "output_type": "display_data"
    },
    {
     "name": "stdout",
     "output_type": "stream",
     "text": [
      "                            OLS Regression Results                            \n",
      "==============================================================================\n",
      "Dep. Variable:                      y   R-squared:                       0.028\n",
      "Model:                            OLS   Adj. R-squared:                  0.028\n",
      "Method:                 Least Squares   F-statistic:                     600.2\n",
      "Date:                Thu, 17 Dec 2020   Prob (F-statistic):               0.00\n",
      "Time:                        20:34:39   Log-Likelihood:             1.7795e+06\n",
      "No. Observations:              252683   AIC:                        -3.559e+06\n",
      "Df Residuals:                  252670   BIC:                        -3.559e+06\n",
      "Df Model:                          12                                         \n",
      "Covariance Type:            nonrobust                                         \n",
      "==================================================================================\n",
      "                     coef    std err          t      P>|t|      [0.025      0.975]\n",
      "----------------------------------------------------------------------------------\n",
      "const          -2.087e-06   4.21e-07     -4.952      0.000   -2.91e-06   -1.26e-06\n",
      "Return_SPY_1       0.1973      0.005     41.712      0.000       0.188       0.207\n",
      "Return_SPY_5       0.0157      0.004      3.510      0.000       0.007       0.024\n",
      "Return_SPY_10     -0.0534      0.004    -14.928      0.000      -0.060      -0.046\n",
      "Return_SPY_30     -0.0027      0.002     -1.129      0.259      -0.007       0.002\n",
      "Return_SPY_60      0.0005      0.002      0.213      0.831      -0.004       0.005\n",
      "Return_SPY_90     -0.0005      0.002     -0.287      0.774      -0.004       0.003\n",
      "Return_AAPL_1      0.0881      0.003     35.018      0.000       0.083       0.093\n",
      "Return_AAPL_5     -0.0093      0.002     -4.157      0.000      -0.014      -0.005\n",
      "Return_AAPL_10     0.0290      0.002     17.472      0.000       0.026       0.032\n",
      "Return_AAPL_30    -0.0102      0.001     -8.048      0.000      -0.013      -0.008\n",
      "Return_AAPL_60 -1.353e-06      0.001     -0.001      0.999      -0.002       0.002\n",
      "Return_AAPL_90     0.0041      0.001      4.635      0.000       0.002       0.006\n",
      "==============================================================================\n",
      "Omnibus:                   256275.558   Durbin-Watson:                   0.249\n",
      "Prob(Omnibus):                  0.000   Jarque-Bera (JB):        267370456.376\n",
      "Skew:                          -4.049   Prob(JB):                         0.00\n",
      "Kurtosis:                     162.152   Cond. No.                     1.41e+04\n",
      "==============================================================================\n",
      "\n",
      "Notes:\n",
      "[1] Standard Errors assume that the covariance matrix of the errors is correctly specified.\n",
      "[2] The condition number is large, 1.41e+04. This might indicate that there are\n",
      "strong multicollinearity or other numerical problems.\n"
     ]
    }
   ],
   "source": [
    "# SPY - Dependent variable\n",
    "combine_valid = combine.dropna(how='any', axis=0)\n",
    "\n",
    "x_cols_aapl = []\n",
    "x_cols_spy = []\n",
    "for k, _ in windows.items():\n",
    "    x_cols_aapl.append('Return_SPY_'+k)\n",
    "    x_cols_spy.append('Return_AAPL_'+k)\n",
    "x_cols = x_cols_aapl + x_cols_spy\n",
    "\n",
    "y = combine_valid.Return_SPY.to_list()\n",
    "x = combine_valid[x_cols]\n",
    "x = sm.add_constant(x)\n",
    "\n",
    "model = sm.OLS(y, x).fit()\n",
    "predictions = model.predict(x) \n",
    "print_model = model.summary()\n",
    "printmd('**SPY as Dependent Variable - 1 to 90 seconds interval**')\n",
    "print(print_model)"
   ]
  },
  {
   "cell_type": "code",
   "execution_count": 22,
   "metadata": {},
   "outputs": [
    {
     "data": {
      "text/markdown": [
       "**AAPL as Dependent Variable - 1 to 90 seconds interval**"
      ],
      "text/plain": [
       "<IPython.core.display.Markdown object>"
      ]
     },
     "metadata": {},
     "output_type": "display_data"
    },
    {
     "name": "stdout",
     "output_type": "stream",
     "text": [
      "                            OLS Regression Results                            \n",
      "==============================================================================\n",
      "Dep. Variable:                      y   R-squared:                       0.069\n",
      "Model:                            OLS   Adj. R-squared:                  0.069\n",
      "Method:                 Least Squares   F-statistic:                     1555.\n",
      "Date:                Thu, 17 Dec 2020   Prob (F-statistic):               0.00\n",
      "Time:                        20:34:43   Log-Likelihood:             1.6232e+06\n",
      "No. Observations:              252683   AIC:                        -3.246e+06\n",
      "Df Residuals:                  252670   BIC:                        -3.246e+06\n",
      "Df Model:                          12                                         \n",
      "Covariance Type:            nonrobust                                         \n",
      "==================================================================================\n",
      "                     coef    std err          t      P>|t|      [0.025      0.975]\n",
      "----------------------------------------------------------------------------------\n",
      "const          -5.512e-07   7.82e-07     -0.705      0.481   -2.08e-06    9.82e-07\n",
      "Return_SPY_1       0.3712      0.009     42.295      0.000       0.354       0.388\n",
      "Return_SPY_5       0.2057      0.008     24.825      0.000       0.189       0.222\n",
      "Return_SPY_10      0.0762      0.007     11.486      0.000       0.063       0.089\n",
      "Return_SPY_30      0.0507      0.004     11.313      0.000       0.042       0.060\n",
      "Return_SPY_60      0.0334      0.004      7.659      0.000       0.025       0.042\n",
      "Return_SPY_90     -0.0230      0.003     -7.103      0.000      -0.029      -0.017\n",
      "Return_AAPL_1      0.0233      0.005      4.996      0.000       0.014       0.032\n",
      "Return_AAPL_5     -0.0121      0.004     -2.900      0.004      -0.020      -0.004\n",
      "Return_AAPL_10     0.0270      0.003      8.756      0.000       0.021       0.033\n",
      "Return_AAPL_30    -0.0360      0.002    -15.242      0.000      -0.041      -0.031\n",
      "Return_AAPL_60    -0.0091      0.002     -4.110      0.000      -0.013      -0.005\n",
      "Return_AAPL_90    -0.0040      0.002     -2.408      0.016      -0.007      -0.001\n",
      "==============================================================================\n",
      "Omnibus:                   175915.630   Durbin-Watson:                   0.233\n",
      "Prob(Omnibus):                  0.000   Jarque-Bera (JB):        488420631.563\n",
      "Skew:                          -1.746   Prob(JB):                         0.00\n",
      "Kurtosis:                     218.356   Cond. No.                     1.41e+04\n",
      "==============================================================================\n",
      "\n",
      "Notes:\n",
      "[1] Standard Errors assume that the covariance matrix of the errors is correctly specified.\n",
      "[2] The condition number is large, 1.41e+04. This might indicate that there are\n",
      "strong multicollinearity or other numerical problems.\n"
     ]
    }
   ],
   "source": [
    "# AAPL - Dependent variable\n",
    "combine_valid = combine.dropna(how='any', axis=0)\n",
    "\n",
    "y = combine_valid.Return_AAPL.to_list()\n",
    "x = combine_valid[x_cols]\n",
    "x = sm.add_constant(x)\n",
    "\n",
    "model = sm.OLS(y, x).fit()\n",
    "predictions = model.predict(x) \n",
    "print_model = model.summary()\n",
    "printmd('**AAPL as Dependent Variable - 1 to 90 seconds interval**')\n",
    "print(print_model)"
   ]
  },
  {
   "cell_type": "code",
   "execution_count": 20,
   "metadata": {},
   "outputs": [
    {
     "data": {
      "text/markdown": [
       "**Microseconds Window**"
      ],
      "text/plain": [
       "<IPython.core.display.Markdown object>"
      ]
     },
     "metadata": {},
     "output_type": "display_data"
    }
   ],
   "source": [
    "printmd('**Microseconds Window**')"
   ]
  },
  {
   "cell_type": "code",
   "execution_count": 23,
   "metadata": {},
   "outputs": [],
   "source": [
    "############ Microseconds Window ##############\n",
    "# Setting up the scene for regression\n",
    "window = pd.Timedelta('0 days 00:00:00.000001')\n",
    "regression_data = pd.merge(wholedf[wholedf['ticker']=='SPY'], wholedf[wholedf['ticker']=='AAPL'], \n",
    "                           on = 'Collection_time', how = 'outer', suffixes = ['_SPY', '_AAPL'])\n",
    "regression_data = regression_data.sort_values('Collection_time')\n",
    "regression_data = regression_data.fillna(method = 'pad')\n",
    "combine = regression_data.fillna(method = 'bfill')\n",
    "combine['Collection_time'] = pd.to_datetime(combine['Collection_time'])"
   ]
  },
  {
   "cell_type": "code",
   "execution_count": 24,
   "metadata": {},
   "outputs": [],
   "source": [
    "# Calculating future returns - Microseconds\n",
    "combine_values = combine.values\n",
    "\n",
    "component_return = np.zeros((combine_values.shape[0], 1))\n",
    "etf_return = np.zeros((combine_values.shape[0], 1))\n",
    "\n",
    "n = combine_values.shape[0]\n",
    "for i in range(n):\n",
    "    j = i + 1\n",
    "    while j < n and combine_values[j,0] - combine_values[i,0] < window:\n",
    "        j += 1\n",
    "    if j >= n:\n",
    "        etf_return[i, 0] = np.nan\n",
    "        component_return[i, 0]= np.nan\n",
    "    else:\n",
    "        etf_return[i, 0] = combine_values[j, 5]/combine_values[i, 5] - 1\n",
    "        component_return[i, 0] = combine_values[j, 12]/combine_values[i, 12] - 1\n",
    "        \n",
    "combine['Return_SPY'] = etf_return\n",
    "combine['Return_AAPL'] = component_return"
   ]
  },
  {
   "cell_type": "code",
   "execution_count": 25,
   "metadata": {},
   "outputs": [],
   "source": [
    "## calculate features - Microseconds\n",
    "windows = {'1': pd.Timedelta('0 days 00:00:00.000001'),\n",
    "           '5': pd.Timedelta('0 days 00:00:00.000005'),\n",
    "           '10': pd.Timedelta('0 days 00:00:00.000010'),\n",
    "           '30': pd.Timedelta('0 days 00:00:00.000030'),\n",
    "           '60': pd.Timedelta('0 days 00:00:00.000060'),\n",
    "           '90': pd.Timedelta('0 days 00:00:00.000090')}\n",
    "\n",
    "combine_values = combine.values\n",
    "n = combine_values.shape[0]\n",
    "\n",
    "for k, window in windows.items():\n",
    "    component_return = np.zeros((combine_values.shape[0], 1))\n",
    "    etf_return = np.zeros((combine_values.shape[0], 1))\n",
    "    \n",
    "    for i in range(n):\n",
    "        j = i - 1\n",
    "        while j >=0 and combine_values[i,0] - combine_values[j,0] < window:\n",
    "            j -= 1\n",
    "        if j < 0:\n",
    "            etf_return[i, 0] = np.nan\n",
    "            component_return[i, 0]= np.nan\n",
    "        else:\n",
    "            etf_return[i, 0] = combine_values[i, 5]/combine_values[j, 5] - 1\n",
    "            component_return[i, 0] = combine_values[i, 12]/combine_values[j, 12] - 1\n",
    "\n",
    "    combine['Return_SPY_'+k] = etf_return\n",
    "    combine['Return_AAPL_'+k] = component_return"
   ]
  },
  {
   "cell_type": "code",
   "execution_count": 26,
   "metadata": {},
   "outputs": [
    {
     "data": {
      "text/markdown": [
       "**SPY as Dependent Variable - 1 to 90 microseconds interval**"
      ],
      "text/plain": [
       "<IPython.core.display.Markdown object>"
      ]
     },
     "metadata": {},
     "output_type": "display_data"
    },
    {
     "name": "stdout",
     "output_type": "stream",
     "text": [
      "                            OLS Regression Results                            \n",
      "==============================================================================\n",
      "Dep. Variable:                      y   R-squared:                       0.042\n",
      "Model:                            OLS   Adj. R-squared:                  0.042\n",
      "Method:                 Least Squares   F-statistic:                     924.5\n",
      "Date:                Thu, 17 Dec 2020   Prob (F-statistic):               0.00\n",
      "Time:                        20:35:47   Log-Likelihood:             2.0674e+06\n",
      "No. Observations:              252684   AIC:                        -4.135e+06\n",
      "Df Residuals:                  252671   BIC:                        -4.135e+06\n",
      "Df Model:                          12                                         \n",
      "Covariance Type:            nonrobust                                         \n",
      "==================================================================================\n",
      "                     coef    std err          t      P>|t|      [0.025      0.975]\n",
      "----------------------------------------------------------------------------------\n",
      "const           6.482e-08   1.35e-07      0.481      0.630   -1.99e-07    3.29e-07\n",
      "Return_SPY_1      -0.0853      0.187     -0.455      0.649      -0.452       0.282\n",
      "Return_SPY_5       0.0813      0.189      0.429      0.668      -0.290       0.452\n",
      "Return_SPY_10      0.0989      0.028      3.495      0.000       0.043       0.154\n",
      "Return_SPY_30     -0.1113      0.015     -7.401      0.000      -0.141      -0.082\n",
      "Return_SPY_60     -0.0014      0.024     -0.056      0.955      -0.049       0.046\n",
      "Return_SPY_90     -0.0105      0.021     -0.501      0.617      -0.051       0.030\n",
      "Return_AAPL_1      0.0146      0.267      0.055      0.956      -0.509       0.538\n",
      "Return_AAPL_5     -0.0566      0.268     -0.211      0.833      -0.582       0.469\n",
      "Return_AAPL_10     0.0465      0.021      2.216      0.027       0.005       0.088\n",
      "Return_AAPL_30     0.0049      0.011      0.448      0.654      -0.017       0.027\n",
      "Return_AAPL_60    -0.5566      0.011    -48.555      0.000      -0.579      -0.534\n",
      "Return_AAPL_90     0.5838      0.006     96.347      0.000       0.572       0.596\n",
      "==============================================================================\n",
      "Omnibus:                   368990.875   Durbin-Watson:                   2.007\n",
      "Prob(Omnibus):                  0.000   Jarque-Bera (JB):      90237417573.798\n",
      "Skew:                          -6.917   Prob(JB):                         0.00\n",
      "Kurtosis:                    2930.556   Cond. No.                     2.81e+06\n",
      "==============================================================================\n",
      "\n",
      "Notes:\n",
      "[1] Standard Errors assume that the covariance matrix of the errors is correctly specified.\n",
      "[2] The condition number is large, 2.81e+06. This might indicate that there are\n",
      "strong multicollinearity or other numerical problems.\n"
     ]
    }
   ],
   "source": [
    "# SPY - Dependent variable - Microseconds\n",
    "combine_valid = combine.dropna(how='any', axis=0)\n",
    "\n",
    "x_cols_aapl = []\n",
    "x_cols_spy = []\n",
    "for k, _ in windows.items():\n",
    "    x_cols_aapl.append('Return_SPY_'+k)\n",
    "    x_cols_spy.append('Return_AAPL_'+k)\n",
    "x_cols = x_cols_aapl + x_cols_spy\n",
    "\n",
    "y = combine_valid.Return_SPY.to_list()\n",
    "x = combine_valid[x_cols]\n",
    "x = sm.add_constant(x)\n",
    "\n",
    "model = sm.OLS(y, x).fit()\n",
    "predictions = model.predict(x) \n",
    "print_model = model.summary()\n",
    "printmd('**SPY as Dependent Variable - 1 to 90 microseconds interval**')\n",
    "print(print_model)"
   ]
  },
  {
   "cell_type": "code",
   "execution_count": 27,
   "metadata": {},
   "outputs": [
    {
     "data": {
      "text/markdown": [
       "**AAPL as Dependent Variable - 1 to 90 microseconds interval**"
      ],
      "text/plain": [
       "<IPython.core.display.Markdown object>"
      ]
     },
     "metadata": {},
     "output_type": "display_data"
    },
    {
     "name": "stdout",
     "output_type": "stream",
     "text": [
      "                            OLS Regression Results                            \n",
      "==============================================================================\n",
      "Dep. Variable:                      y   R-squared:                       0.006\n",
      "Model:                            OLS   Adj. R-squared:                  0.005\n",
      "Method:                 Least Squares   F-statistic:                     117.0\n",
      "Date:                Thu, 17 Dec 2020   Prob (F-statistic):          1.11e-292\n",
      "Time:                        20:35:54   Log-Likelihood:             1.8979e+06\n",
      "No. Observations:              252684   AIC:                        -3.796e+06\n",
      "Df Residuals:                  252671   BIC:                        -3.796e+06\n",
      "Df Model:                          12                                         \n",
      "Covariance Type:            nonrobust                                         \n",
      "==================================================================================\n",
      "                     coef    std err          t      P>|t|      [0.025      0.975]\n",
      "----------------------------------------------------------------------------------\n",
      "const           4.948e-07   2.63e-07      1.878      0.060   -2.15e-08    1.01e-06\n",
      "Return_SPY_1       0.0536      0.366      0.146      0.884      -0.665       0.772\n",
      "Return_SPY_5      -0.0010      0.370     -0.003      0.998      -0.727       0.725\n",
      "Return_SPY_10     -0.0426      0.055     -0.770      0.441      -0.151       0.066\n",
      "Return_SPY_30     -0.0736      0.029     -2.502      0.012      -0.131      -0.016\n",
      "Return_SPY_60      0.0364      0.048      0.762      0.446      -0.057       0.130\n",
      "Return_SPY_90      0.1324      0.041      3.240      0.001       0.052       0.213\n",
      "Return_AAPL_1      0.0480      0.523      0.092      0.927      -0.977       1.072\n",
      "Return_AAPL_5     -0.0247      0.524     -0.047      0.962      -1.052       1.003\n",
      "Return_AAPL_10     0.0141      0.041      0.344      0.731      -0.066       0.095\n",
      "Return_AAPL_30    -0.0073      0.022     -0.338      0.735      -0.050       0.035\n",
      "Return_AAPL_60     0.0114      0.022      0.506      0.613      -0.033       0.055\n",
      "Return_AAPL_90     0.0047      0.012      0.401      0.689      -0.018       0.028\n",
      "==============================================================================\n",
      "Omnibus:                   641075.697   Durbin-Watson:                   2.004\n",
      "Prob(Omnibus):                  0.000   Jarque-Bera (JB):     229486525254.910\n",
      "Skew:                          27.069   Prob(JB):                         0.00\n",
      "Kurtosis:                    4671.379   Cond. No.                     2.81e+06\n",
      "==============================================================================\n",
      "\n",
      "Notes:\n",
      "[1] Standard Errors assume that the covariance matrix of the errors is correctly specified.\n",
      "[2] The condition number is large, 2.81e+06. This might indicate that there are\n",
      "strong multicollinearity or other numerical problems.\n"
     ]
    }
   ],
   "source": [
    "# AAPL - Dependent variable - Microseconds\n",
    "combine_valid = combine.dropna(how='any', axis=0)\n",
    "\n",
    "y = combine_valid.Return_AAPL.to_list()\n",
    "x = combine_valid[x_cols]\n",
    "x = sm.add_constant(x)\n",
    "\n",
    "model = sm.OLS(y, x).fit()\n",
    "predictions = model.predict(x) \n",
    "print_model = model.summary()\n",
    "printmd('**AAPL as Dependent Variable - 1 to 90 microseconds interval**')\n",
    "print(print_model)"
   ]
  },
  {
   "cell_type": "code",
   "execution_count": 28,
   "metadata": {},
   "outputs": [
    {
     "data": {
      "text/markdown": [
       "**0.01 seconds - 0.9 seconds interval**"
      ],
      "text/plain": [
       "<IPython.core.display.Markdown object>"
      ]
     },
     "metadata": {},
     "output_type": "display_data"
    }
   ],
   "source": [
    "printmd('**0.01 seconds - 0.9 seconds interval**')"
   ]
  },
  {
   "cell_type": "code",
   "execution_count": 29,
   "metadata": {},
   "outputs": [],
   "source": [
    "# Setting up the scene for regression - 0.01 to 0.9 seconds\n",
    "window = pd.Timedelta('0 days 00:00:00.100000')\n",
    "regression_data = pd.merge(wholedf[wholedf['ticker']=='SPY'], wholedf[wholedf['ticker']=='AAPL'], \n",
    "                           on = 'Collection_time', how = 'outer', suffixes = ['_SPY', '_AAPL'])\n",
    "regression_data = regression_data.sort_values('Collection_time')\n",
    "regression_data = regression_data.fillna(method = 'pad')\n",
    "combine = regression_data.fillna(method = 'bfill')\n",
    "combine['Collection_time'] = pd.to_datetime(combine['Collection_time'])"
   ]
  },
  {
   "cell_type": "code",
   "execution_count": 30,
   "metadata": {},
   "outputs": [],
   "source": [
    "# Calculating future returns - 0.01 to 0.9 seconds\n",
    "combine_values = combine.values\n",
    "\n",
    "component_return = np.zeros((combine_values.shape[0], 1))\n",
    "etf_return = np.zeros((combine_values.shape[0], 1))\n",
    "\n",
    "n = combine_values.shape[0]\n",
    "for i in range(n):\n",
    "    j = i + 1\n",
    "    while j < n and combine_values[j,0] - combine_values[i,0] < window:\n",
    "        j += 1\n",
    "    if j >= n:\n",
    "        etf_return[i, 0] = np.nan\n",
    "        component_return[i, 0]= np.nan\n",
    "    else:\n",
    "        etf_return[i, 0] = combine_values[j, 5]/combine_values[i, 5] - 1\n",
    "        component_return[i, 0] = combine_values[j, 12]/combine_values[i, 12] - 1\n",
    "        \n",
    "combine['Return_SPY'] = etf_return\n",
    "combine['Return_AAPL'] = component_return"
   ]
  },
  {
   "cell_type": "code",
   "execution_count": 31,
   "metadata": {},
   "outputs": [],
   "source": [
    "## calculate features - 0.01 to 0.9 seconds\n",
    "windows = {'1': pd.Timedelta('0 days 00:00:00.010000'),\n",
    "           '5': pd.Timedelta('0 days 00:00:00.050000'),\n",
    "           '10': pd.Timedelta('0 days 00:00:00.100000'),\n",
    "           '30': pd.Timedelta('0 days 00:00:00.300000'),\n",
    "           '60': pd.Timedelta('0 days 00:00:00.600000'),\n",
    "           '90': pd.Timedelta('0 days 00:00:00.900000')}\n",
    "\n",
    "combine_values = combine.values\n",
    "n = combine_values.shape[0]\n",
    "\n",
    "for k, window in windows.items():\n",
    "    component_return = np.zeros((combine_values.shape[0], 1))\n",
    "    etf_return = np.zeros((combine_values.shape[0], 1))\n",
    "    \n",
    "    for i in range(n):\n",
    "        j = i - 1\n",
    "        while j >=0 and combine_values[i,0] - combine_values[j,0] < window:\n",
    "            j -= 1\n",
    "        if j < 0:\n",
    "            etf_return[i, 0] = np.nan\n",
    "            component_return[i, 0]= np.nan\n",
    "        else:\n",
    "            etf_return[i, 0] = combine_values[i, 5]/combine_values[j, 5] - 1\n",
    "            component_return[i, 0] = combine_values[i, 12]/combine_values[j, 12] - 1\n",
    "\n",
    "    combine['Return_SPY_'+k] = etf_return\n",
    "    combine['Return_AAPL_'+k] = component_return"
   ]
  },
  {
   "cell_type": "code",
   "execution_count": 32,
   "metadata": {},
   "outputs": [
    {
     "data": {
      "text/markdown": [
       "**SPY as Dependent Variable - 0.01 to 0.9 seconds interval**"
      ],
      "text/plain": [
       "<IPython.core.display.Markdown object>"
      ]
     },
     "metadata": {},
     "output_type": "display_data"
    },
    {
     "name": "stdout",
     "output_type": "stream",
     "text": [
      "                            OLS Regression Results                            \n",
      "==============================================================================\n",
      "Dep. Variable:                      y   R-squared:                       0.025\n",
      "Model:                            OLS   Adj. R-squared:                  0.025\n",
      "Method:                 Least Squares   F-statistic:                     548.7\n",
      "Date:                Thu, 17 Dec 2020   Prob (F-statistic):               0.00\n",
      "Time:                        20:36:59   Log-Likelihood:             2.0108e+06\n",
      "No. Observations:              252683   AIC:                        -4.022e+06\n",
      "Df Residuals:                  252670   BIC:                        -4.022e+06\n",
      "Df Model:                          12                                         \n",
      "Covariance Type:            nonrobust                                         \n",
      "==================================================================================\n",
      "                     coef    std err          t      P>|t|      [0.025      0.975]\n",
      "----------------------------------------------------------------------------------\n",
      "const          -9.613e-09   1.68e-07     -0.057      0.954    -3.4e-07    3.21e-07\n",
      "Return_SPY_1      -0.1113      0.006    -20.179      0.000      -0.122      -0.100\n",
      "Return_SPY_5      -0.0121      0.008     -1.494      0.135      -0.028       0.004\n",
      "Return_SPY_10      0.1093      0.007     14.901      0.000       0.095       0.124\n",
      "Return_SPY_30     -0.0377      0.005     -7.328      0.000      -0.048      -0.028\n",
      "Return_SPY_60     -0.0023      0.005     -0.453      0.650      -0.012       0.007\n",
      "Return_SPY_90      0.0299      0.004      8.292      0.000       0.023       0.037\n",
      "Return_AAPL_1      0.0398      0.003     12.121      0.000       0.033       0.046\n",
      "Return_AAPL_5     -0.0134      0.005     -2.933      0.003      -0.022      -0.004\n",
      "Return_AAPL_10     0.0400      0.004     10.227      0.000       0.032       0.048\n",
      "Return_AAPL_30    -0.0046      0.003     -1.767      0.077      -0.010       0.001\n",
      "Return_AAPL_60    -0.0007      0.003     -0.261      0.794      -0.006       0.005\n",
      "Return_AAPL_90     0.0164      0.002      7.771      0.000       0.012       0.021\n",
      "==============================================================================\n",
      "Omnibus:                   155587.553   Durbin-Watson:                   1.301\n",
      "Prob(Omnibus):                  0.000   Jarque-Bera (JB):      24085008542.234\n",
      "Skew:                           0.722   Prob(JB):                         0.00\n",
      "Kurtosis:                    1515.484   Cond. No.                     6.11e+04\n",
      "==============================================================================\n",
      "\n",
      "Notes:\n",
      "[1] Standard Errors assume that the covariance matrix of the errors is correctly specified.\n",
      "[2] The condition number is large, 6.11e+04. This might indicate that there are\n",
      "strong multicollinearity or other numerical problems.\n"
     ]
    }
   ],
   "source": [
    "# SPY - Dependent variable - 0.01 to 0.9 seconds\n",
    "combine_valid = combine.dropna(how='any', axis=0)\n",
    "\n",
    "x_cols_aapl = []\n",
    "x_cols_spy = []\n",
    "for k, _ in windows.items():\n",
    "    x_cols_aapl.append('Return_SPY_'+k)\n",
    "    x_cols_spy.append('Return_AAPL_'+k)\n",
    "x_cols = x_cols_aapl + x_cols_spy\n",
    "\n",
    "y = combine_valid.Return_SPY.to_list()\n",
    "x = combine_valid[x_cols]\n",
    "x = sm.add_constant(x)\n",
    "\n",
    "model = sm.OLS(y, x).fit()\n",
    "predictions = model.predict(x) \n",
    "print_model = model.summary()\n",
    "printmd('**SPY as Dependent Variable - 0.01 to 0.9 seconds interval**')\n",
    "print(print_model)"
   ]
  },
  {
   "cell_type": "code",
   "execution_count": 33,
   "metadata": {},
   "outputs": [
    {
     "data": {
      "text/markdown": [
       "**AAPL as Dependent Variable - 0.01 to 0.9 seconds interval**"
      ],
      "text/plain": [
       "<IPython.core.display.Markdown object>"
      ]
     },
     "metadata": {},
     "output_type": "display_data"
    },
    {
     "name": "stdout",
     "output_type": "stream",
     "text": [
      "                            OLS Regression Results                            \n",
      "==============================================================================\n",
      "Dep. Variable:                      y   R-squared:                       0.021\n",
      "Model:                            OLS   Adj. R-squared:                  0.021\n",
      "Method:                 Least Squares   F-statistic:                     445.8\n",
      "Date:                Thu, 17 Dec 2020   Prob (F-statistic):               0.00\n",
      "Time:                        20:37:00   Log-Likelihood:             1.8417e+06\n",
      "No. Observations:              252683   AIC:                        -3.683e+06\n",
      "Df Residuals:                  252670   BIC:                        -3.683e+06\n",
      "Df Model:                          12                                         \n",
      "Covariance Type:            nonrobust                                         \n",
      "==================================================================================\n",
      "                     coef    std err          t      P>|t|      [0.025      0.975]\n",
      "----------------------------------------------------------------------------------\n",
      "const           -5.09e-08   3.29e-07     -0.155      0.877   -6.96e-07    5.94e-07\n",
      "Return_SPY_1      -0.1615      0.011    -14.990      0.000      -0.183      -0.140\n",
      "Return_SPY_5       0.2271      0.016     14.397      0.000       0.196       0.258\n",
      "Return_SPY_10     -0.0660      0.014     -4.605      0.000      -0.094      -0.038\n",
      "Return_SPY_30      0.1320      0.010     13.139      0.000       0.112       0.152\n",
      "Return_SPY_60      0.0203      0.010      2.087      0.037       0.001       0.039\n",
      "Return_SPY_90      0.0600      0.007      8.533      0.000       0.046       0.074\n",
      "Return_AAPL_1      0.0177      0.006      2.769      0.006       0.005       0.030\n",
      "Return_AAPL_5      0.0525      0.009      5.873      0.000       0.035       0.070\n",
      "Return_AAPL_10    -0.0048      0.008     -0.624      0.533      -0.020       0.010\n",
      "Return_AAPL_30    -0.0187      0.005     -3.681      0.000      -0.029      -0.009\n",
      "Return_AAPL_60    -0.0073      0.005     -1.349      0.177      -0.018       0.003\n",
      "Return_AAPL_90    -0.0114      0.004     -2.748      0.006      -0.019      -0.003\n",
      "==============================================================================\n",
      "Omnibus:                   460022.559   Durbin-Watson:                   1.260\n",
      "Prob(Omnibus):                  0.000   Jarque-Bera (JB):      60816208356.627\n",
      "Skew:                          11.805   Prob(JB):                         0.00\n",
      "Kurtosis:                    2406.291   Cond. No.                     6.11e+04\n",
      "==============================================================================\n",
      "\n",
      "Notes:\n",
      "[1] Standard Errors assume that the covariance matrix of the errors is correctly specified.\n",
      "[2] The condition number is large, 6.11e+04. This might indicate that there are\n",
      "strong multicollinearity or other numerical problems.\n"
     ]
    }
   ],
   "source": [
    "# AAPL - Dependent variable - 0.01 to 0.9 seconds\n",
    "combine_valid = combine.dropna(how='any', axis=0)\n",
    "\n",
    "y = combine_valid.Return_AAPL.to_list()\n",
    "x = combine_valid[x_cols]\n",
    "x = sm.add_constant(x)\n",
    "\n",
    "model = sm.OLS(y, x).fit()\n",
    "predictions = model.predict(x) \n",
    "print_model = model.summary()\n",
    "printmd('**AAPL as Dependent Variable - 0.01 to 0.9 seconds interval**')\n",
    "print(print_model)"
   ]
  },
  {
   "cell_type": "code",
   "execution_count": null,
   "metadata": {},
   "outputs": [],
   "source": []
  }
 ],
 "metadata": {
  "kernelspec": {
   "display_name": "Python 3",
   "language": "python",
   "name": "python3"
  },
  "language_info": {
   "codemirror_mode": {
    "name": "ipython",
    "version": 3
   },
   "file_extension": ".py",
   "mimetype": "text/x-python",
   "name": "python",
   "nbconvert_exporter": "python",
   "pygments_lexer": "ipython3",
   "version": "3.7.6"
  }
 },
 "nbformat": 4,
 "nbformat_minor": 4
}
