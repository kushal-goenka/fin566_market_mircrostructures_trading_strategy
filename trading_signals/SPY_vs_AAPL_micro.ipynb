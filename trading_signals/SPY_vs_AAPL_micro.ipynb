{
 "cells": [
  {
   "cell_type": "code",
   "execution_count": 1,
   "metadata": {},
   "outputs": [],
   "source": [
    "import pandas as pd\n",
    "from pandas import DataFrame\n",
    "import numpy as np\n",
    "import os\n",
    "os.chdir('/Users/khavya/Box/MS - Financial Engineering/Fall 2020/FIN566 - Algorithmic Market Microstructure')\n",
    "\n",
    "import scipy.stats as st\n",
    "from sklearn.linear_model import LinearRegression\n",
    "import statsmodels.api as sm\n",
    "\n",
    "pd.set_option('display.max_columns', None)"
   ]
  },
  {
   "cell_type": "code",
   "execution_count": 2,
   "metadata": {},
   "outputs": [
    {
     "name": "stdout",
     "output_type": "stream",
     "text": [
      "['AAPL' 'AMZN' 'INTL' 'JPM' 'MSFT' 'SPY']\n"
     ]
    }
   ],
   "source": [
    "# Loading the data (MSFT, SPY, AMZN, AAPL, INTL, JPM) \n",
    "wholedf = pd.read_csv('six_components.csv')\n",
    "wholedf.sort_values(['ticker','Collection_time'])\n",
    "\n",
    "# Deleting the unwanted rows generated\n",
    "del wholedf['Unnamed: 0']\n",
    "del wholedf['Unnamed: 0.1']\n",
    "\n",
    "# Finding the unique tickers in the data\n",
    "unique_tickers = wholedf.ticker.unique()\n",
    "print(unique_tickers)"
   ]
  },
  {
   "cell_type": "code",
   "execution_count": 12,
   "metadata": {},
   "outputs": [],
   "source": [
    "####### Source: Yong Xie's Code ########\n",
    "\n",
    "# Setting up the scene for regression\n",
    "window = pd.Timedelta('0 days 00:00:00.000001')\n",
    "regression_data = pd.merge(wholedf[wholedf['ticker']=='SPY'], wholedf[wholedf['ticker']=='AAPL'], \n",
    "                           on = 'Collection_time', how = 'outer', suffixes = ['_SPY', '_AAPL'])\n",
    "regression_data = regression_data.sort_values('Collection_time')\n",
    "regression_data = regression_data.fillna(method = 'pad')\n",
    "combine = regression_data.fillna(method = 'bfill')\n",
    "combine['Collection_time'] = pd.to_datetime(combine['Collection_time'])"
   ]
  },
  {
   "cell_type": "code",
   "execution_count": 13,
   "metadata": {},
   "outputs": [],
   "source": [
    "# Calculating future returns\n",
    "combine_values = combine.values\n",
    "\n",
    "component_return = np.zeros((combine_values.shape[0], 1))\n",
    "etf_return = np.zeros((combine_values.shape[0], 1))\n",
    "\n",
    "n = combine_values.shape[0]\n",
    "for i in range(n):\n",
    "    j = i + 1\n",
    "    while j < n and combine_values[j,0] - combine_values[i,0] < window:\n",
    "        j += 1\n",
    "    if j >= n:\n",
    "        etf_return[i, 0] = np.nan\n",
    "        component_return[i, 0]= np.nan\n",
    "    else:\n",
    "        etf_return[i, 0] = combine_values[j, 5]/combine_values[i, 5] - 1\n",
    "        component_return[i, 0] = combine_values[j, 12]/combine_values[i, 12] - 1\n",
    "        \n",
    "combine['Return_SPY'] = etf_return\n",
    "combine['Return_AAPL'] = component_return"
   ]
  },
  {
   "cell_type": "code",
   "execution_count": 14,
   "metadata": {},
   "outputs": [],
   "source": [
    "## calculate features\n",
    "windows = {'1': pd.Timedelta('0 days 00:00:00.000001'),\n",
    "           '5': pd.Timedelta('0 days 00:00:00.000005'),\n",
    "           '10': pd.Timedelta('0 days 00:00:00.000010'),\n",
    "           '30': pd.Timedelta('0 days 00:00:00.000030'),\n",
    "           '60': pd.Timedelta('0 days 00:00:00.000060'),\n",
    "           '90': pd.Timedelta('0 days 00:00:00.000090')}\n",
    "\n",
    "combine_values = combine.values\n",
    "n = combine_values.shape[0]\n",
    "\n",
    "for k, window in windows.items():\n",
    "    component_return = np.zeros((combine_values.shape[0], 1))\n",
    "    etf_return = np.zeros((combine_values.shape[0], 1))\n",
    "    \n",
    "    for i in range(n):\n",
    "        j = i - 1\n",
    "        while j >=0 and combine_values[i,0] - combine_values[j,0] < window:\n",
    "            j -= 1\n",
    "        if j < 0:\n",
    "            etf_return[i, 0] = np.nan\n",
    "            component_return[i, 0]= np.nan\n",
    "        else:\n",
    "            etf_return[i, 0] = combine_values[i, 5]/combine_values[j, 5] - 1\n",
    "            component_return[i, 0] = combine_values[i, 12]/combine_values[j, 12] - 1\n",
    "\n",
    "    combine['Return_SPY_'+k] = etf_return\n",
    "    combine['Return_AAPL_'+k] = component_return"
   ]
  },
  {
   "cell_type": "code",
   "execution_count": 15,
   "metadata": {},
   "outputs": [
    {
     "name": "stdout",
     "output_type": "stream",
     "text": [
      "                            OLS Regression Results                            \n",
      "==============================================================================\n",
      "Dep. Variable:                      y   R-squared:                       0.042\n",
      "Model:                            OLS   Adj. R-squared:                  0.042\n",
      "Method:                 Least Squares   F-statistic:                     924.5\n",
      "Date:                Tue, 15 Dec 2020   Prob (F-statistic):               0.00\n",
      "Time:                        22:51:06   Log-Likelihood:             2.0674e+06\n",
      "No. Observations:              252684   AIC:                        -4.135e+06\n",
      "Df Residuals:                  252671   BIC:                        -4.135e+06\n",
      "Df Model:                          12                                         \n",
      "Covariance Type:            nonrobust                                         \n",
      "==================================================================================\n",
      "                     coef    std err          t      P>|t|      [0.025      0.975]\n",
      "----------------------------------------------------------------------------------\n",
      "const           6.482e-08   1.35e-07      0.481      0.630   -1.99e-07    3.29e-07\n",
      "Return_SPY_1      -0.0853      0.187     -0.455      0.649      -0.452       0.282\n",
      "Return_SPY_5       0.0813      0.189      0.429      0.668      -0.290       0.452\n",
      "Return_SPY_10      0.0989      0.028      3.495      0.000       0.043       0.154\n",
      "Return_SPY_30     -0.1113      0.015     -7.401      0.000      -0.141      -0.082\n",
      "Return_SPY_60     -0.0014      0.024     -0.056      0.955      -0.049       0.046\n",
      "Return_SPY_90     -0.0105      0.021     -0.501      0.617      -0.051       0.030\n",
      "Return_AAPL_1      0.0146      0.267      0.055      0.956      -0.509       0.538\n",
      "Return_AAPL_5     -0.0566      0.268     -0.211      0.833      -0.582       0.469\n",
      "Return_AAPL_10     0.0465      0.021      2.216      0.027       0.005       0.088\n",
      "Return_AAPL_30     0.0049      0.011      0.448      0.654      -0.017       0.027\n",
      "Return_AAPL_60    -0.5566      0.011    -48.555      0.000      -0.579      -0.534\n",
      "Return_AAPL_90     0.5838      0.006     96.347      0.000       0.572       0.596\n",
      "==============================================================================\n",
      "Omnibus:                   368990.875   Durbin-Watson:                   2.007\n",
      "Prob(Omnibus):                  0.000   Jarque-Bera (JB):      90237417573.798\n",
      "Skew:                          -6.917   Prob(JB):                         0.00\n",
      "Kurtosis:                    2930.556   Cond. No.                     2.81e+06\n",
      "==============================================================================\n",
      "\n",
      "Notes:\n",
      "[1] Standard Errors assume that the covariance matrix of the errors is correctly specified.\n",
      "[2] The condition number is large, 2.81e+06. This might indicate that there are\n",
      "strong multicollinearity or other numerical problems.\n"
     ]
    }
   ],
   "source": [
    "# SPY - Dependent variable\n",
    "combine_valid = combine.dropna(how='any', axis=0)\n",
    "\n",
    "x_cols_aapl = []\n",
    "x_cols_spy = []\n",
    "for k, _ in windows.items():\n",
    "    x_cols_aapl.append('Return_SPY_'+k)\n",
    "    x_cols_spy.append('Return_AAPL_'+k)\n",
    "x_cols = x_cols_aapl + x_cols_spy\n",
    "\n",
    "y = combine_valid.Return_SPY.to_list()\n",
    "x = combine_valid[x_cols]\n",
    "x = sm.add_constant(x)\n",
    "\n",
    "model = sm.OLS(y, x).fit()\n",
    "predictions = model.predict(x) \n",
    "print_model = model.summary()\n",
    "print(print_model)"
   ]
  },
  {
   "cell_type": "code",
   "execution_count": 16,
   "metadata": {},
   "outputs": [
    {
     "name": "stdout",
     "output_type": "stream",
     "text": [
      "                            OLS Regression Results                            \n",
      "==============================================================================\n",
      "Dep. Variable:                      y   R-squared:                       0.006\n",
      "Model:                            OLS   Adj. R-squared:                  0.005\n",
      "Method:                 Least Squares   F-statistic:                     117.0\n",
      "Date:                Tue, 15 Dec 2020   Prob (F-statistic):          1.11e-292\n",
      "Time:                        22:51:06   Log-Likelihood:             1.8979e+06\n",
      "No. Observations:              252684   AIC:                        -3.796e+06\n",
      "Df Residuals:                  252671   BIC:                        -3.796e+06\n",
      "Df Model:                          12                                         \n",
      "Covariance Type:            nonrobust                                         \n",
      "==================================================================================\n",
      "                     coef    std err          t      P>|t|      [0.025      0.975]\n",
      "----------------------------------------------------------------------------------\n",
      "const           4.948e-07   2.63e-07      1.878      0.060   -2.15e-08    1.01e-06\n",
      "Return_SPY_1       0.0536      0.366      0.146      0.884      -0.665       0.772\n",
      "Return_SPY_5      -0.0010      0.370     -0.003      0.998      -0.727       0.725\n",
      "Return_SPY_10     -0.0426      0.055     -0.770      0.441      -0.151       0.066\n",
      "Return_SPY_30     -0.0736      0.029     -2.502      0.012      -0.131      -0.016\n",
      "Return_SPY_60      0.0364      0.048      0.762      0.446      -0.057       0.130\n",
      "Return_SPY_90      0.1324      0.041      3.240      0.001       0.052       0.213\n",
      "Return_AAPL_1      0.0480      0.523      0.092      0.927      -0.977       1.072\n",
      "Return_AAPL_5     -0.0247      0.524     -0.047      0.962      -1.052       1.003\n",
      "Return_AAPL_10     0.0141      0.041      0.344      0.731      -0.066       0.095\n",
      "Return_AAPL_30    -0.0073      0.022     -0.338      0.735      -0.050       0.035\n",
      "Return_AAPL_60     0.0114      0.022      0.506      0.613      -0.033       0.055\n",
      "Return_AAPL_90     0.0047      0.012      0.401      0.689      -0.018       0.028\n",
      "==============================================================================\n",
      "Omnibus:                   641075.697   Durbin-Watson:                   2.004\n",
      "Prob(Omnibus):                  0.000   Jarque-Bera (JB):     229486525254.910\n",
      "Skew:                          27.069   Prob(JB):                         0.00\n",
      "Kurtosis:                    4671.379   Cond. No.                     2.81e+06\n",
      "==============================================================================\n",
      "\n",
      "Notes:\n",
      "[1] Standard Errors assume that the covariance matrix of the errors is correctly specified.\n",
      "[2] The condition number is large, 2.81e+06. This might indicate that there are\n",
      "strong multicollinearity or other numerical problems.\n"
     ]
    }
   ],
   "source": [
    "# AAPL - Dependent variable\n",
    "combine_valid = combine.dropna(how='any', axis=0)\n",
    "\n",
    "y = combine_valid.Return_AAPL.to_list()\n",
    "x = combine_valid[x_cols]\n",
    "x = sm.add_constant(x)\n",
    "\n",
    "model = sm.OLS(y, x).fit()\n",
    "predictions = model.predict(x) \n",
    "print_model = model.summary()\n",
    "print(print_model)"
   ]
  },
  {
   "cell_type": "code",
   "execution_count": null,
   "metadata": {},
   "outputs": [],
   "source": []
  }
 ],
 "metadata": {
  "kernelspec": {
   "display_name": "Python 3",
   "language": "python",
   "name": "python3"
  },
  "language_info": {
   "codemirror_mode": {
    "name": "ipython",
    "version": 3
   },
   "file_extension": ".py",
   "mimetype": "text/x-python",
   "name": "python",
   "nbconvert_exporter": "python",
   "pygments_lexer": "ipython3",
   "version": "3.7.6"
  }
 },
 "nbformat": 4,
 "nbformat_minor": 4
}
