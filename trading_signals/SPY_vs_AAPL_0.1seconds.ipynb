{
 "cells": [
  {
   "cell_type": "code",
   "execution_count": 1,
   "metadata": {},
   "outputs": [],
   "source": [
    "import pandas as pd\n",
    "from pandas import DataFrame\n",
    "import numpy as np\n",
    "import os\n",
    "os.chdir('/Users/khavya/Box/MS - Financial Engineering/Fall 2020/FIN566 - Algorithmic Market Microstructure')\n",
    "\n",
    "import scipy.stats as st\n",
    "from sklearn.linear_model import LinearRegression\n",
    "import statsmodels.api as sm\n",
    "\n",
    "pd.set_option('display.max_columns', None)"
   ]
  },
  {
   "cell_type": "code",
   "execution_count": 2,
   "metadata": {},
   "outputs": [
    {
     "name": "stdout",
     "output_type": "stream",
     "text": [
      "['AAPL' 'AMZN' 'INTL' 'JPM' 'MSFT' 'SPY']\n"
     ]
    }
   ],
   "source": [
    "# Loading the data (MSFT, SPY, AMZN, AAPL, INTL, JPM) \n",
    "wholedf = pd.read_csv('six_components.csv')\n",
    "wholedf.sort_values(['ticker','Collection_time'])\n",
    "\n",
    "# Deleting the unwanted rows generated\n",
    "del wholedf['Unnamed: 0']\n",
    "del wholedf['Unnamed: 0.1']\n",
    "\n",
    "# Finding the unique tickers in the data\n",
    "unique_tickers = wholedf.ticker.unique()\n",
    "print(unique_tickers)"
   ]
  },
  {
   "cell_type": "code",
   "execution_count": 13,
   "metadata": {},
   "outputs": [],
   "source": [
    "####### Source: Yong Xie's Code ########\n",
    "\n",
    "# Setting up the scene for regression\n",
    "window = pd.Timedelta('0 days 00:00:00.100000')\n",
    "regression_data = pd.merge(wholedf[wholedf['ticker']=='SPY'], wholedf[wholedf['ticker']=='AAPL'], \n",
    "                           on = 'Collection_time', how = 'outer', suffixes = ['_SPY', '_AAPL'])\n",
    "regression_data = regression_data.sort_values('Collection_time')\n",
    "regression_data = regression_data.fillna(method = 'pad')\n",
    "combine = regression_data.fillna(method = 'bfill')\n",
    "combine['Collection_time'] = pd.to_datetime(combine['Collection_time'])"
   ]
  },
  {
   "cell_type": "code",
   "execution_count": 14,
   "metadata": {},
   "outputs": [],
   "source": [
    "# Calculating future returns\n",
    "combine_values = combine.values\n",
    "\n",
    "component_return = np.zeros((combine_values.shape[0], 1))\n",
    "etf_return = np.zeros((combine_values.shape[0], 1))\n",
    "\n",
    "n = combine_values.shape[0]\n",
    "for i in range(n):\n",
    "    j = i + 1\n",
    "    while j < n and combine_values[j,0] - combine_values[i,0] < window:\n",
    "        j += 1\n",
    "    if j >= n:\n",
    "        etf_return[i, 0] = np.nan\n",
    "        component_return[i, 0]= np.nan\n",
    "    else:\n",
    "        etf_return[i, 0] = combine_values[j, 5]/combine_values[i, 5] - 1\n",
    "        component_return[i, 0] = combine_values[j, 12]/combine_values[i, 12] - 1\n",
    "        \n",
    "combine['Return_SPY'] = etf_return\n",
    "combine['Return_AAPL'] = component_return"
   ]
  },
  {
   "cell_type": "code",
   "execution_count": null,
   "metadata": {},
   "outputs": [],
   "source": [
    "## calculate features\n",
    "windows = {'1': pd.Timedelta('0 days 00:00:00.010000'),\n",
    "           '5': pd.Timedelta('0 days 00:00:00.050000'),\n",
    "           '10': pd.Timedelta('0 days 00:00:00.100000'),\n",
    "           '30': pd.Timedelta('0 days 00:00:00.300000'),\n",
    "           '60': pd.Timedelta('0 days 00:00:00.600000'),\n",
    "           '90': pd.Timedelta('0 days 00:00:00.900000')}\n",
    "\n",
    "combine_values = combine.values\n",
    "n = combine_values.shape[0]\n",
    "\n",
    "for k, window in windows.items():\n",
    "    component_return = np.zeros((combine_values.shape[0], 1))\n",
    "    etf_return = np.zeros((combine_values.shape[0], 1))\n",
    "    \n",
    "    for i in range(n):\n",
    "        j = i - 1\n",
    "        while j >=0 and combine_values[i,0] - combine_values[j,0] < window:\n",
    "            j -= 1\n",
    "        if j < 0:\n",
    "            etf_return[i, 0] = np.nan\n",
    "            component_return[i, 0]= np.nan\n",
    "        else:\n",
    "            etf_return[i, 0] = combine_values[i, 5]/combine_values[j, 5] - 1\n",
    "            component_return[i, 0] = combine_values[i, 12]/combine_values[j, 12] - 1\n",
    "\n",
    "    combine['Return_SPY_'+k] = etf_return\n",
    "    combine['Return_AAPL_'+k] = component_return"
   ]
  },
  {
   "cell_type": "code",
   "execution_count": null,
   "metadata": {},
   "outputs": [],
   "source": [
    "# SPY - Dependent variable\n",
    "combine_valid = combine.dropna(how='any', axis=0)\n",
    "\n",
    "x_cols_aapl = []\n",
    "x_cols_spy = []\n",
    "for k, _ in windows.items():\n",
    "    x_cols_aapl.append('Return_SPY_'+k)\n",
    "    x_cols_spy.append('Return_AAPL_'+k)\n",
    "x_cols = x_cols_aapl + x_cols_spy\n",
    "\n",
    "y = combine_valid.Return_SPY.to_list()\n",
    "x = combine_valid[x_cols]\n",
    "x = sm.add_constant(x)\n",
    "\n",
    "model = sm.OLS(y, x).fit()\n",
    "predictions = model.predict(x) \n",
    "print_model = model.summary()\n",
    "print(print_model)"
   ]
  },
  {
   "cell_type": "code",
   "execution_count": null,
   "metadata": {},
   "outputs": [],
   "source": [
    "# AAPL - Dependent variable\n",
    "combine_valid = combine.dropna(how='any', axis=0)\n",
    "\n",
    "y = combine_valid.Return_AAPL.to_list()\n",
    "x = combine_valid[x_cols]\n",
    "x = sm.add_constant(x)\n",
    "\n",
    "model = sm.OLS(y, x).fit()\n",
    "predictions = model.predict(x) \n",
    "print_model = model.summary()\n",
    "print(print_model)"
   ]
  },
  {
   "cell_type": "code",
   "execution_count": null,
   "metadata": {},
   "outputs": [],
   "source": []
  }
 ],
 "metadata": {
  "kernelspec": {
   "display_name": "Python 3",
   "language": "python",
   "name": "python3"
  },
  "language_info": {
   "codemirror_mode": {
    "name": "ipython",
    "version": 3
   },
   "file_extension": ".py",
   "mimetype": "text/x-python",
   "name": "python",
   "nbconvert_exporter": "python",
   "pygments_lexer": "ipython3",
   "version": "3.7.6"
  }
 },
 "nbformat": 4,
 "nbformat_minor": 4
}
